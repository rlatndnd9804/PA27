{
 "cells": [
  {
   "cell_type": "code",
   "execution_count": 1,
   "metadata": {},
   "outputs": [],
   "source": [
    "##튜플: tuple 이란?"
   ]
  },
  {
   "cell_type": "code",
   "execution_count": 6,
   "metadata": {},
   "outputs": [],
   "source": [
    "##리스트는 [ ]으로 둘러싸지만 튜플은 ( )으로 둘러싼다.\n",
    "##리스트는 그 값의 생성, 삭제, 수정이 가능하지만 튜플은 그 값을 바꿀 수 없다.\n",
    "##immutability of tuple (불가변성 데이터 구조)"
   ]
  },
  {
   "cell_type": "code",
   "execution_count": 7,
   "metadata": {},
   "outputs": [
    {
     "name": "stdout",
     "output_type": "stream",
     "text": [
      "(2, 4, 6, 8)\n",
      "()\n",
      "(1,)\n",
      "(1, 2, 3)\n",
      "(1, 2, 3)\n",
      "('a', 'b', ('ab', 'cd'))\n",
      "(1, 2, [3, 4])\n"
     ]
    }
   ],
   "source": [
    "even = (2, 4, 6, 8)\n",
    "print(even)\n",
    "# 여러 가지 튜플\n",
    "t1 = () # 튜플 초기화\n",
    "print(t1)\n",
    "t2 = (1,)\n",
    "t3 = (1, 2, 3)\n",
    "t4 = 1, 2, 3\n",
    "t5 = (\"a\", \"b\", (\"ab\", \"cd\"))\n",
    "t6 = (1, 2, [3, 4])\n",
    "print(t2)\n",
    "print(t3)\n",
    "print(t4)\n",
    "print(t5)\n",
    "print(t6)\n",
    "\n",
    "# t2 = (1,)처럼 단지 1개의 요소만을 가질 때는 요소 뒤에\n",
    "# 콤마(,)를 반드시 붙여야 한다는 것과\n",
    "# t4 = 1, 2, 3처럼 괄호( )를 생략해도 무방하다."
   ]
  },
  {
   "cell_type": "code",
   "execution_count": null,
   "metadata": {},
   "outputs": [],
   "source": [
    "##튜플의 요소값을 지우거나 변경하려고 하면 어떻게 될까?"
   ]
  },
  {
   "cell_type": "code",
   "execution_count": 8,
   "metadata": {},
   "outputs": [],
   "source": [
    "# 1. 튜플 요솟값을 삭제하려 할 때\n",
    "t1 = (1, 2, \"a\", \"b\")\n",
    "# del t1[0]  # Error(튜플은 항목을 지울수 없다)\n",
    "\n",
    "# 2. 튜플 요솟값을 변경하려 할 때\n",
    "\n",
    "# t1[0] = \"c\"  # TypeError(튜플은 항목을 바꿀수 없다)"
   ]
  },
  {
   "cell_type": "code",
   "execution_count": null,
   "metadata": {},
   "outputs": [],
   "source": [
    "##튜플: 사용방법"
   ]
  },
  {
   "cell_type": "code",
   "execution_count": 9,
   "metadata": {},
   "outputs": [
    {
     "name": "stdout",
     "output_type": "stream",
     "text": [
      "1\n",
      "b\n",
      "(2, 'a', 'b')\n",
      "('a',)\n",
      "('a', 'b')\n",
      "(1, 2, 'a', 'b', 3, 4)\n",
      "140328458044112\n",
      "140328458044112\n",
      "140328547785760\n",
      "4\n"
     ]
    }
   ],
   "source": [
    "# 인덱싱하기\n",
    "\n",
    "t1 = (1, 2, \"a\", \"b\")\n",
    "print(t1[0])\n",
    "print(t1[3])\n",
    "\n",
    "\n",
    "# 슬라이싱하기\n",
    "\n",
    "t1 = (1, 2, \"a\", \"b\")\n",
    "print(t1[1:])\n",
    "print(t1[2:-1])  # ('a',)\n",
    "print(t1[2:])\n",
    "\n",
    "# 튜플 더하기\n",
    "\n",
    "t1 = (1, 2, \"a\", \"b\")\n",
    "t2 = (3, 4)\n",
    "print(t1 + t2)\n",
    "\n",
    "# 튜플 곱하기\n",
    "\n",
    "t2 = (3, 4)\n",
    "print(id(t2)) #t2라는 튜플의 주소를 알아내는 함수\n",
    "t2 * 3\n",
    "print(id(t2)) #대입을 하게되면 새로운 튜플변수가 생성되기때문에 새로운 주소에 저장\n",
    "t2 = t2 * 3\n",
    "print(id(t2))\n",
    "\n",
    "# 튜플 길이 구하기\n",
    "\n",
    "t1 = (1, 2, \"a\", \"b\")\n",
    "print(len(t1))"
   ]
  }
 ],
 "metadata": {
  "kernelspec": {
   "display_name": "Python 3",
   "language": "python",
   "name": "python3"
  },
  "language_info": {
   "codemirror_mode": {
    "name": "ipython",
    "version": 3
   },
   "file_extension": ".py",
   "mimetype": "text/x-python",
   "name": "python",
   "nbconvert_exporter": "python",
   "pygments_lexer": "ipython3",
   "version": "3.7.4"
  }
 },
 "nbformat": 4,
 "nbformat_minor": 4
}
