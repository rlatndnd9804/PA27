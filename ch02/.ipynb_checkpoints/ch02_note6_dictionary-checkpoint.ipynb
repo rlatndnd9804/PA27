{
 "cells": [
  {
   "cell_type": "code",
   "execution_count": null,
   "metadata": {},
   "outputs": [],
   "source": [
    "###PA09 ch02_note5_dictionary"
   ]
  },
  {
   "cell_type": "code",
   "execution_count": 1,
   "metadata": {},
   "outputs": [],
   "source": [
    "##딕셔너리: 딕셔너리(Dictionary)란?"
   ]
  },
  {
   "cell_type": "code",
   "execution_count": 2,
   "metadata": {},
   "outputs": [],
   "source": [
    "#딕셔너리란 대응 관계를 나타내는 자료형.\n",
    "#연관 배열(Associative array) 또는 해시(Hash)\n",
    "#딕셔너리는 Key와 Value를 한 쌍으로 갖는 자료형\n",
    "#기본 딕셔너리의 모습\n",
    "#{Key1:Value1, Key2:Value2, Key3:Value3, ...}\n",
    "#Key와 Value의 쌍 여러 개가 { }로 둘러싸여 있다.\n",
    "#각각의 요소는 Key : Value 형태로 이루어져 있고 쉼표(,)로 구분"
   ]
  },
  {
   "cell_type": "code",
   "execution_count": 3,
   "metadata": {},
   "outputs": [
    {
     "name": "stdout",
     "output_type": "stream",
     "text": [
      "{'name': 'pey', 'phone': '0119993323', 'birth': '1118'}\n"
     ]
    }
   ],
   "source": [
    "dic = {\"name\": \"pey\", \"phone\": \"0119993323\", \"birth\": \"1118\"}\n",
    "print(dic)"
   ]
  },
  {
   "cell_type": "code",
   "execution_count": 4,
   "metadata": {},
   "outputs": [],
   "source": [
    "#Key는 각각 'name', 'phone', 'birth'"
   ]
  },
  {
   "cell_type": "code",
   "execution_count": 6,
   "metadata": {},
   "outputs": [],
   "source": [
    "#각 Key에 해당하는 Value는 'pey', '0119993323', '1118'"
   ]
  },
  {
   "cell_type": "code",
   "execution_count": 7,
   "metadata": {},
   "outputs": [],
   "source": [
    "##여러 가지 딕셔너리"
   ]
  },
  {
   "cell_type": "code",
   "execution_count": 8,
   "metadata": {},
   "outputs": [
    {
     "name": "stdout",
     "output_type": "stream",
     "text": [
      "1\n"
     ]
    },
    {
     "data": {
      "text/plain": [
       "[1, 2, 3]"
      ]
     },
     "execution_count": 8,
     "metadata": {},
     "output_type": "execute_result"
    }
   ],
   "source": [
    "a = {1: \"hi\"}\n",
    "a[1]\n",
    "a = {\"a\": [1, 2, 3]}  # value에는 복합 자료형도 사용된다.\n",
    "print(len(a))\n",
    "# a[a]  TypeError\n",
    "a[\"a\"]"
   ]
  },
  {
   "cell_type": "code",
   "execution_count": 9,
   "metadata": {},
   "outputs": [],
   "source": [
    "##딕셔너리 쌍 추가하기"
   ]
  },
  {
   "cell_type": "code",
   "execution_count": 10,
   "metadata": {},
   "outputs": [
    {
     "name": "stdout",
     "output_type": "stream",
     "text": [
      "{1: 'a', 2: 'b', 'name': 'pey'}\n"
     ]
    },
    {
     "data": {
      "text/plain": [
       "{1: 'a', 2: 'b', 'name': 'pey', 3: [1, 2, 3]}"
      ]
     },
     "execution_count": 10,
     "metadata": {},
     "output_type": "execute_result"
    }
   ],
   "source": [
    "a = {1: \"a\"}\n",
    "a[2] = \"b\"\n",
    "a[\"name\"] = \"pey\"\n",
    "print(a)\n",
    "a[3] = [1, 2, 3]\n",
    "a"
   ]
  },
  {
   "cell_type": "code",
   "execution_count": 11,
   "metadata": {},
   "outputs": [],
   "source": [
    "##딕셔너리 쌍 삭제하기"
   ]
  },
  {
   "cell_type": "code",
   "execution_count": 12,
   "metadata": {},
   "outputs": [
    {
     "name": "stdout",
     "output_type": "stream",
     "text": [
      "{2: 'b', 'name': 'pey', 3: [1, 2, 3]}\n"
     ]
    }
   ],
   "source": [
    "del a[1]\n",
    "print(a)"
   ]
  },
  {
   "cell_type": "code",
   "execution_count": 13,
   "metadata": {},
   "outputs": [],
   "source": [
    "##딕셔너리: 사용방법"
   ]
  },
  {
   "cell_type": "code",
   "execution_count": 15,
   "metadata": {},
   "outputs": [
    {
     "name": "stdout",
     "output_type": "stream",
     "text": [
      "{'김연아': '피겨스케이팅', '류현진': '야구', '손흥민': '축구', '귀도': '파이썬'}\n"
     ]
    },
    {
     "data": {
      "text/plain": [
       "'축구'"
      ]
     },
     "execution_count": 15,
     "metadata": {},
     "output_type": "execute_result"
    }
   ],
   "source": [
    "d = {\"김연아\": \"피겨스케이팅\", \"류현진\": \"야구\", \"손흥민\": \"축구\", \"귀도\": \"파이썬\"}\n",
    "print(d)\n",
    "d[\"손흥민\"]"
   ]
  },
  {
   "cell_type": "code",
   "execution_count": 17,
   "metadata": {},
   "outputs": [],
   "source": [
    "#딕셔너리에서 Key 사용해 Value 얻기"
   ]
  },
  {
   "cell_type": "code",
   "execution_count": 18,
   "metadata": {},
   "outputs": [
    {
     "name": "stdout",
     "output_type": "stream",
     "text": [
      "10\n",
      "99\n",
      "a\n",
      "2\n",
      "1118\n",
      "0109993323\n"
     ]
    }
   ],
   "source": [
    "grade = {\"pey\": 10, \"julliet\": 99}\n",
    "print(grade[\"pey\"])\n",
    "print(grade[\"julliet\"])\n",
    "a = {1: \"a\", 2: \"b\"}\n",
    "print(a[1])  # 1은 key\n",
    "#\n",
    "a = {\"a\": 1, \"b\": 2}\n",
    "print(a[\"b\"])\n",
    "#a[b]  # TypeError b라는 key값이 없음\n",
    "dic = {\"name\": \"pey\", \"phone\": \"0109993323\", \"birth\": \"1118\"}\n",
    "print(dic[\"birth\"])\n",
    "print(dic[\"phone\"])\n",
    "\n",
    "# 딕셔너리 만들 때 주의할 사항\n",
    "# 딕셔너리에서 Key는 고유한 값이므로 중복되는 Key 값을 설정해 놓으면\n",
    "# 하나를 제외한 나머지 것들이 모두 무시된다"
   ]
  },
  {
   "cell_type": "code",
   "execution_count": 19,
   "metadata": {},
   "outputs": [],
   "source": [
    "##딕셔너리: 관련 내장 함수들"
   ]
  },
  {
   "cell_type": "code",
   "execution_count": 20,
   "metadata": {},
   "outputs": [
    {
     "name": "stdout",
     "output_type": "stream",
     "text": [
      "dict_keys(['name', 'phone', 'birth'])\n",
      "['name', 'phone', 'birth']\n"
     ]
    }
   ],
   "source": [
    "#Key 리스트 만들기(keys)\n",
    "\n",
    "a = {\"name\": \"pey\", \"phone\": \"0119993323\", \"birth\": \"1118\"}\n",
    "print(a.keys()) # 모든 key 값 출력\n",
    "print(list(a.keys())) #사전에 있는 key값을 리스트에 담아서 출력"
   ]
  },
  {
   "cell_type": "code",
   "execution_count": 21,
   "metadata": {},
   "outputs": [
    {
     "name": "stdout",
     "output_type": "stream",
     "text": [
      "name\n",
      "phone\n",
      "birth\n"
     ]
    }
   ],
   "source": [
    "#################################################\n",
    "# 기본적인 반복(iterate) 구문(예: for문)을 실행\n",
    "#################################################\n",
    "for k in a.keys():\n",
    "    print(k)"
   ]
  },
  {
   "cell_type": "code",
   "execution_count": 22,
   "metadata": {},
   "outputs": [],
   "source": [
    "##Value 리스트 만들기(values)"
   ]
  },
  {
   "cell_type": "code",
   "execution_count": 23,
   "metadata": {},
   "outputs": [
    {
     "data": {
      "text/plain": [
       "dict_values(['pey', '0119993323', '1118'])"
      ]
     },
     "execution_count": 23,
     "metadata": {},
     "output_type": "execute_result"
    }
   ],
   "source": [
    "a.values()"
   ]
  },
  {
   "cell_type": "code",
   "execution_count": 24,
   "metadata": {},
   "outputs": [],
   "source": [
    "##Key, Value 쌍 얻기(items)"
   ]
  },
  {
   "cell_type": "code",
   "execution_count": 25,
   "metadata": {},
   "outputs": [
    {
     "data": {
      "text/plain": [
       "dict_items([('name', 'pey'), ('phone', '0119993323'), ('birth', '1118')])"
      ]
     },
     "execution_count": 25,
     "metadata": {},
     "output_type": "execute_result"
    }
   ],
   "source": [
    "a.items()"
   ]
  },
  {
   "cell_type": "code",
   "execution_count": 26,
   "metadata": {},
   "outputs": [],
   "source": [
    "##Key: Value 쌍 모두 지우기(clear)"
   ]
  },
  {
   "cell_type": "code",
   "execution_count": 27,
   "metadata": {},
   "outputs": [
    {
     "data": {
      "text/plain": [
       "{}"
      ]
     },
     "execution_count": 27,
     "metadata": {},
     "output_type": "execute_result"
    }
   ],
   "source": [
    "a.clear()\n",
    "a"
   ]
  },
  {
   "cell_type": "code",
   "execution_count": 28,
   "metadata": {},
   "outputs": [],
   "source": [
    "##Key로 Value얻기(get)"
   ]
  },
  {
   "cell_type": "code",
   "execution_count": 29,
   "metadata": {},
   "outputs": [
    {
     "name": "stdout",
     "output_type": "stream",
     "text": [
      "None\n",
      "None\n",
      "bar\n",
      "bar\n"
     ]
    }
   ],
   "source": [
    "##a = {\"name\": \"pey\", \"phone\": \"0119993323\", \"birth\": \"1118\"}\n",
    "print(a.get(\"name\"))  # a['name']\n",
    "print(a.get(\"phone\"))  # a['phone']\n",
    "# print(a[\"nokey\"])  # KeyError 해당하는 키값이 없음\n",
    "# get(x, '디폴트 값')\n",
    "\n",
    "# 딕셔너리 안에 찾으려는 Key 값이 없을 경우\n",
    "# 미리 정해 둔 디폴트 값을 대신 가져오게 설정.\n",
    "\n",
    "print(a.get(\"foo\", \"bar\"))\n",
    "print(a.get(\"name\", \"bar\"))"
   ]
  },
  {
   "cell_type": "code",
   "execution_count": 30,
   "metadata": {},
   "outputs": [],
   "source": [
    "##해당 Key가 딕셔너리 안에 있는지 조사하기(in)"
   ]
  },
  {
   "cell_type": "code",
   "execution_count": 31,
   "metadata": {},
   "outputs": [
    {
     "name": "stdout",
     "output_type": "stream",
     "text": [
      "True\n"
     ]
    },
    {
     "data": {
      "text/plain": [
       "False"
      ]
     },
     "execution_count": 31,
     "metadata": {},
     "output_type": "execute_result"
    }
   ],
   "source": [
    "a = {\"name\": \"pey\", \"phone\": \"0119993323\", \"birth\": \"1118\"}\n",
    "print(\"name\" in a)\n",
    "\"foo\" in a"
   ]
  },
  {
   "cell_type": "code",
   "execution_count": null,
   "metadata": {},
   "outputs": [],
   "source": []
  }
 ],
 "metadata": {
  "kernelspec": {
   "display_name": "Python 3",
   "language": "python",
   "name": "python3"
  },
  "language_info": {
   "codemirror_mode": {
    "name": "ipython",
    "version": 3
   },
   "file_extension": ".py",
   "mimetype": "text/x-python",
   "name": "python",
   "nbconvert_exporter": "python",
   "pygments_lexer": "ipython3",
   "version": "3.7.4"
  }
 },
 "nbformat": 4,
 "nbformat_minor": 4
}
