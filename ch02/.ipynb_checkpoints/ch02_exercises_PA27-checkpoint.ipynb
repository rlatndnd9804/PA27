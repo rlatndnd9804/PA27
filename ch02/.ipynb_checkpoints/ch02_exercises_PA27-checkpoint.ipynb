{
 "cells": [
  {
   "cell_type": "code",
   "execution_count": null,
   "metadata": {},
   "outputs": [],
   "source": [
    "## Q1.\n",
    "> 홍길동 씨의 과목별 점수는 다음과 같다. 홍길동 씨의 평균 점수를 구해 보자.\n",
    "\n",
    "- 과목\t점수\n",
    "- 국어\t80\n",
    "- 영어\t75\n",
    "- 수학\t55"
   ]
  },
  {
   "cell_type": "code",
   "execution_count": 2,
   "metadata": {},
   "outputs": [
    {
     "name": "stdout",
     "output_type": "stream",
     "text": [
      "70.0\n",
      "70\n"
     ]
    }
   ],
   "source": [
    "국어 = 80\n",
    "영어 = 75\n",
    "수학 = 55\n",
    "\n",
    "average = (국어 + 영어 + 수학)/3\n",
    "print(average)\n",
    "\n",
    "# 2번째 방법\n",
    "dic = {'국어':80,'영어':75,'수학':55}\n",
    "gradeAverage = round((dic['국어']+dic['영어']+dic['수학'])/3)\n",
    "print(format(gradeAverage))"
   ]
  },
  {
   "cell_type": "code",
   "execution_count": 3,
   "metadata": {},
   "outputs": [],
   "source": [
    "##Q2.\n",
    "#자연수 13이 홀수인지 짝수인지 판별할 수 있는 방법에 대해 말해 보자.\n",
    "\n",
    "#판별 기준\n",
    "#코드"
   ]
  },
  {
   "cell_type": "code",
   "execution_count": 4,
   "metadata": {},
   "outputs": [
    {
     "name": "stdout",
     "output_type": "stream",
     "text": [
      "13은 홀수입니다.\n"
     ]
    }
   ],
   "source": [
    "\"\"\"\n",
    "1. 판별 기준\n",
    " 홀수는 어떤 수를 2로 나눌따 나머지가 나오는 것, 짝수는 어떤 수를 2로 나눌때 나머지가 없는 것을 말한다.\n",
    " 그러면 13을 판별하기 위해 if문을 사용하여 13을 2로 나누었을 때, 나머지가 나오는지 안나오는지 판별을 통해 구하면 된다.\n",
    " \"\"\"\n",
    "\n",
    "num = 13\n",
    "if num % 2 ==0:\n",
    "    print(\"13은 짝수입니다.\")\n",
    "else:\n",
    "    print(\"13은 홀수입니다.\")"
   ]
  },
  {
   "cell_type": "code",
   "execution_count": 5,
   "metadata": {},
   "outputs": [],
   "source": [
    "##Q3.\n",
    "#홍길동 씨의 주민등록번호는 881120-1068234이다. 홍길동 씨의 주민등록번호를 연월일(YYYYMMDD) 부분과 그 뒤의 숫자 부분으로 나누어 출력해 보자.\n",
    "\n",
    "#문자열 슬라이싱 기법을 사용해 보자."
   ]
  },
  {
   "cell_type": "code",
   "execution_count": 6,
   "metadata": {},
   "outputs": [
    {
     "name": "stdout",
     "output_type": "stream",
     "text": [
      "홍길동씨의 주민등록번호 앞자리는 881120 입니다.\n",
      "홍길동씨의 주민등록번호 뒷자리는 1068234 입니다.\n"
     ]
    }
   ],
   "source": [
    "Resident_registration_number = (\"881120-1068234\")\n",
    "First = Resident_registration_number[0:6]\n",
    "Second = Resident_registration_number[7:]\n",
    "print(\"홍길동씨의 주민등록번호 앞자리는 {} 입니다.\". format(First))\n",
    "print(\"홍길동씨의 주민등록번호 뒷자리는 {} 입니다.\". format(Second))"
   ]
  },
  {
   "cell_type": "code",
   "execution_count": 7,
   "metadata": {},
   "outputs": [],
   "source": [
    "##Q4.\n",
    "#주민등록번호 뒷자리의 맨 첫 번째 숫자는 성별을 나타낸다. 주민등록번호에서 성별을 나타내는 숫자를 출력해 보자.\n",
    "\n",
    "#pin = \"881120-1068234\"\n",
    "#※ 문자열 인덱싱 또는 내장함수를 사용해 보자.\n",
    "#문자열포맷팅을 이용해서 성별을 출력하시오."
   ]
  },
  {
   "cell_type": "code",
   "execution_count": 8,
   "metadata": {},
   "outputs": [
    {
     "name": "stdout",
     "output_type": "stream",
     "text": [
      "남자입니다.\n"
     ]
    }
   ],
   "source": [
    "pin = \"881120-1068234\"\n",
    "sex = int(pin[7:8])\n",
    "if sex == 1:\n",
    "    print(\"남자입니다.\")\n",
    "else:\n",
    "    print(\"여자입니다.\")"
   ]
  },
  {
   "cell_type": "code",
   "execution_count": 9,
   "metadata": {},
   "outputs": [],
   "source": [
    "##Q5.\n",
    "#다음과 같은 문자열 a:b:c:d가 있다. 문자열의 replace 함수를 사용하여 a#b#c#d로 바꿔서 출력해 보자.\n",
    "\n",
    "#a = \"a:b:c:d\""
   ]
  },
  {
   "cell_type": "code",
   "execution_count": 10,
   "metadata": {},
   "outputs": [
    {
     "data": {
      "text/plain": [
       "'a#b#c#d'"
      ]
     },
     "execution_count": 10,
     "metadata": {},
     "output_type": "execute_result"
    }
   ],
   "source": [
    "a = \"a:b:c:d\"\n",
    "a.replace(\":\",\"#\")"
   ]
  },
  {
   "cell_type": "code",
   "execution_count": 11,
   "metadata": {},
   "outputs": [],
   "source": [
    "##Q6.\n",
    "#[1, 3, 5, 4, 2] 리스트를 [5, 4, 3, 2, 1]로 만들어 보자.\n",
    "\n",
    "#※ 리스트의 내장 함수를 사용해 보자."
   ]
  },
  {
   "cell_type": "code",
   "execution_count": 12,
   "metadata": {},
   "outputs": [
    {
     "name": "stdout",
     "output_type": "stream",
     "text": [
      "[5, 4, 3, 2, 1]\n"
     ]
    }
   ],
   "source": [
    "a = [1, 3 ,5, 4, 2]\n",
    "a.sort()\n",
    "a.reverse()\n",
    "print(a)"
   ]
  },
  {
   "cell_type": "code",
   "execution_count": 13,
   "metadata": {},
   "outputs": [],
   "source": [
    "##Q7.\n",
    "#['Life', 'is', 'too', 'short'] 리스트를 Life is too short 문자열로 만들어 출력해 보자.\n",
    "\n",
    "#※ 문자열의 join 함수를 사용하면 리스트를 문자열로 쉽게 만들 수 있다."
   ]
  },
  {
   "cell_type": "code",
   "execution_count": 14,
   "metadata": {},
   "outputs": [
    {
     "data": {
      "text/plain": [
       "'Life is too short'"
      ]
     },
     "execution_count": 14,
     "metadata": {},
     "output_type": "execute_result"
    }
   ],
   "source": [
    "a = ['Life', 'is', 'too', 'short']\n",
    "\" \".join(a)"
   ]
  },
  {
   "cell_type": "code",
   "execution_count": 15,
   "metadata": {},
   "outputs": [],
   "source": [
    "##Q8.\n",
    "#(1,2,3) 튜플에 값 4를 추가하여 (1,2,3,4)를 만들어 출력해 보자.\n",
    "\n",
    "#※ 더하기(+) 또는 다른 방법들을 사용해 보자."
   ]
  },
  {
   "cell_type": "code",
   "execution_count": 16,
   "metadata": {},
   "outputs": [
    {
     "name": "stdout",
     "output_type": "stream",
     "text": [
      "(1, 2, 3, 4)\n",
      "(1, 2, 3, 4)\n"
     ]
    }
   ],
   "source": [
    "# 1번째 방법\n",
    "t1 = (1,2,3)\n",
    "t2 = (4,)\n",
    "print(t1 + t2)\n",
    "\n",
    "# 2번째 방법\n",
    "t1 = (1,2,3)\n",
    "t2 = list(t1)\n",
    "t2.insert(3,4)\n",
    "t1 = tuple(t2)\n",
    "print(t1)"
   ]
  },
  {
   "cell_type": "code",
   "execution_count": 17,
   "metadata": {},
   "outputs": [],
   "source": [
    "##Q9.\n",
    "#다음과 같은 딕셔너리 a가 있다.\n",
    "\n",
    "#a = dict()\n",
    "#a\n",
    "#{}\n",
    "\n",
    "#다음 중 오류가 발생하는 경우를 고르고, 그 이유를 설명해 보자.\n",
    "#1a['name'] = 'python'\n",
    "#2a[('a',)] = 'python'\n",
    "#3a[[1]] = 'python'\n",
    "#4a[250] = 'python'"
   ]
  },
  {
   "cell_type": "code",
   "execution_count": 18,
   "metadata": {},
   "outputs": [
    {
     "name": "stdout",
     "output_type": "stream",
     "text": [
      "이유: 딕셔너리의 key값은 변하지 않는 값을 지정해야한다. 그러나 3번의 a[[1]]의 key값은 변하는 값이므로 사용할 수 없다. 3번을 사용하기 위해서는 리스트를 튜플로 변환시키면 된다.\n"
     ]
    }
   ],
   "source": [
    "print(\"이유: 딕셔너리의 key값은 변하지 않는 값을 지정해야한다. 그러나 3번의 a[[1]]의 key값은 변하는 값이므로 사용할 수 없다. 3번을 사용하기 위해서는 리스트를 튜플로 변환시키면 된다.\")"
   ]
  },
  {
   "cell_type": "code",
   "execution_count": 19,
   "metadata": {},
   "outputs": [],
   "source": [
    "##Q10.\n",
    "#딕셔너리 a에서 'B'에 해당되는 값을 추출해 보자.\n",
    "\n",
    "#a = {'A':90, 'B':80, 'C':70}\n",
    "#※ 딕셔너리의 pop 함수를 사용해 보자."
   ]
  },
  {
   "cell_type": "code",
   "execution_count": 20,
   "metadata": {},
   "outputs": [
    {
     "name": "stdout",
     "output_type": "stream",
     "text": [
      "80\n"
     ]
    },
    {
     "data": {
      "text/plain": [
       "{'A': 90, 'C': 70}"
      ]
     },
     "execution_count": 20,
     "metadata": {},
     "output_type": "execute_result"
    }
   ],
   "source": [
    "\n",
    "a = {'A':90, 'B':80, 'C':70}\n",
    "print(a.pop('B'))\n",
    "a"
   ]
  },
  {
   "cell_type": "code",
   "execution_count": 21,
   "metadata": {},
   "outputs": [],
   "source": [
    "##Q11.\n",
    "#a 리스트에서 중복 숫자를 제거해 보자.\n",
    "\n",
    "#a = [1, 1, 1, 2, 2, 3, 3, 3, 4, 4, 5]\n",
    "\n",
    "#※ 집합 자료형의 요솟값이 중복될 수 없다는 특징을 사용해 보자."
   ]
  },
  {
   "cell_type": "code",
   "execution_count": 22,
   "metadata": {},
   "outputs": [
    {
     "data": {
      "text/plain": [
       "[1, 2, 3, 4, 5]"
      ]
     },
     "execution_count": 22,
     "metadata": {},
     "output_type": "execute_result"
    }
   ],
   "source": [
    "a = [1, 1, 1, 2, 2, 3, 3, 3, 4, 4, 5]\n",
    "a1 = set(a)\n",
    "a2 = list(a1)\n",
    "a2"
   ]
  },
  {
   "cell_type": "code",
   "execution_count": 23,
   "metadata": {},
   "outputs": [],
   "source": [
    "##Q12.\n",
    "#파이썬은 다음처럼 동일한 값에 여러 개의 변수를 선언할 수 있다. 다음과 같이 a, b 변수를 선언한 후 a의 두 번째 요솟값을 변경하면 b 값은 어떻게 될까? 그리고 이런 결과가 오는 이유에 대해 설명해 보자.\n",
    "\n",
    "#a = b = [1, 2, 3]\n",
    "#a[1] = 4\n",
    "#print(b)"
   ]
  },
  {
   "cell_type": "code",
   "execution_count": 24,
   "metadata": {},
   "outputs": [
    {
     "name": "stdout",
     "output_type": "stream",
     "text": [
      "[1, 4, 3]\n",
      "------------------------------------\n",
      "140027223038784\n",
      "140027223038784\n",
      "[1, 4, 3]\n",
      "[1, 4, 3]\n"
     ]
    }
   ],
   "source": [
    "a = b = [1, 2, 3]\n",
    "a[1] = 4\n",
    "print(b)\n",
    "\n",
    "\n",
    "# a[1]을 4라고 선언했기 때문에 [1,2,3]에서 2가 4로 바뀌면서 [1,4,3]이 된다.\n",
    "\n",
    "print(\"------------------------------------\")\n",
    "print(format(id(a))) # a의 주소\n",
    "print(format(id(b))) # b의 주소\n",
    "print(a)\n",
    "print(b)\n",
    "\n",
    "# a와 b는 주소가 같은 곳에 위치한다. 그리고, 서로 같은 값을 가지고 있는것을 확인할 수 있다. 즉 a=b이다. a가 바뀌면 b도 바뀌게 된다."
   ]
  },
  {
   "cell_type": "code",
   "execution_count": null,
   "metadata": {},
   "outputs": [],
   "source": []
  }
 ],
 "metadata": {
  "kernelspec": {
   "display_name": "Python 3",
   "language": "python",
   "name": "python3"
  },
  "language_info": {
   "codemirror_mode": {
    "name": "ipython",
    "version": 3
   },
   "file_extension": ".py",
   "mimetype": "text/x-python",
   "name": "python",
   "nbconvert_exporter": "python",
   "pygments_lexer": "ipython3",
   "version": "3.7.4"
  }
 },
 "nbformat": 4,
 "nbformat_minor": 4
}
